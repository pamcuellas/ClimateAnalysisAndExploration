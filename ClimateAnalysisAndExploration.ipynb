{
 "cells": [
  {
   "cell_type": "code",
   "execution_count": 1,
   "metadata": {},
   "outputs": [],
   "source": [
    "# Import the dependencies\n",
    "%matplotlib inline\n",
    "from matplotlib import style\n",
    "style.use('fivethirtyeight')\n",
    "import matplotlib.pyplot as plt"
   ]
  },
  {
   "cell_type": "code",
   "execution_count": 2,
   "metadata": {},
   "outputs": [],
   "source": [
    "import numpy as np\n",
    "import pandas as pd"
   ]
  },
  {
   "cell_type": "code",
   "execution_count": 3,
   "metadata": {},
   "outputs": [],
   "source": [
    "import datetime as dt"
   ]
  },
  {
   "cell_type": "markdown",
   "metadata": {},
   "source": [
    "# Reflect Tables into SQLAlchemy ORM"
   ]
  },
  {
   "cell_type": "code",
   "execution_count": 4,
   "metadata": {},
   "outputs": [],
   "source": [
    "# Python SQL toolkit and Object Relational Mapper\n",
    "import sqlalchemy\n",
    "from sqlalchemy.ext.automap import automap_base\n",
    "from sqlalchemy.orm import Session\n",
    "from sqlalchemy import create_engine, func"
   ]
  },
  {
   "cell_type": "code",
   "execution_count": 5,
   "metadata": {},
   "outputs": [],
   "source": [
    "engine = create_engine(\"sqlite:///Resources/hawaii.sqlite\")"
   ]
  },
  {
   "cell_type": "code",
   "execution_count": 6,
   "metadata": {},
   "outputs": [],
   "source": [
    "# reflect an existing database into a new model\n",
    "Base = automap_base()\n",
    "# reflect the tables\n",
    "Base.prepare(engine, reflect=True)"
   ]
  },
  {
   "cell_type": "code",
   "execution_count": 7,
   "metadata": {},
   "outputs": [
    {
     "data": {
      "text/plain": [
       "['measurement', 'station']"
      ]
     },
     "execution_count": 7,
     "metadata": {},
     "output_type": "execute_result"
    }
   ],
   "source": [
    "# We can view all of the classes that automap found\n",
    "Base.classes.keys()"
   ]
  },
  {
   "cell_type": "code",
   "execution_count": 8,
   "metadata": {},
   "outputs": [],
   "source": [
    "# Save references to each table\n",
    "Measurement = Base.classes.measurement\n",
    "Station = Base.classes.station"
   ]
  },
  {
   "cell_type": "code",
   "execution_count": 9,
   "metadata": {},
   "outputs": [],
   "source": [
    "# Create our session (link) from Python to the DB\n",
    "session = Session(engine)"
   ]
  },
  {
   "cell_type": "code",
   "execution_count": 10,
   "metadata": {},
   "outputs": [
    {
     "name": "stdout",
     "output_type": "stream",
     "text": [
      "(1, 'USC00519397', 'WAIKIKI 717.2, HI US', 21.2716, -157.8168, 3.0)\n",
      "(2, 'USC00513117', 'KANEOHE 838.1, HI US', 21.4234, -157.8015, 14.6)\n",
      "(3, 'USC00514830', 'KUALOA RANCH HEADQUARTERS 886.9, HI US', 21.5213, -157.8374, 7.0)\n",
      "(4, 'USC00517948', 'PEARL CITY, HI US', 21.3934, -157.9751, 11.9)\n",
      "(5, 'USC00518838', 'UPPER WAHIAWA 874.3, HI US', 21.4992, -158.0111, 306.6)\n",
      "(6, 'USC00519523', 'WAIMANALO EXPERIMENTAL FARM, HI US', 21.33556, -157.71139, 19.5)\n",
      "(7, 'USC00519281', 'WAIHEE 837.5, HI US', 21.45167, -157.84888999999998, 32.9)\n",
      "(8, 'USC00511918', 'HONOLULU OBSERVATORY 702.2, HI US', 21.3152, -157.9992, 0.9)\n",
      "(9, 'USC00516128', 'MANOA LYON ARBO 785.2, HI US', 21.3331, -157.8025, 152.4)\n"
     ]
    }
   ],
   "source": [
    "# Visualize the Stations\n",
    "sel=[Station.id, Station.station, Station.name, Station.latitude, Station.longitude, Station.elevation]\n",
    "stations = session.query(*sel).all()\n",
    "for station in stations:\n",
    "    print(station)"
   ]
  },
  {
   "cell_type": "code",
   "execution_count": 11,
   "metadata": {},
   "outputs": [
    {
     "name": "stdout",
     "output_type": "stream",
     "text": [
      "(1, 'USC00519397', '2010-01-01', 0.08, 65.0)\n",
      "(2, 'USC00519397', '2010-01-02', 0.0, 63.0)\n",
      "(3, 'USC00519397', '2010-01-03', 0.0, 74.0)\n",
      "(4, 'USC00519397', '2010-01-04', 0.0, 76.0)\n",
      "(5, 'USC00519397', '2010-01-06', None, 73.0)\n",
      "(6, 'USC00519397', '2010-01-07', 0.06, 70.0)\n",
      "(7, 'USC00519397', '2010-01-08', 0.0, 64.0)\n",
      "(8, 'USC00519397', '2010-01-09', 0.0, 68.0)\n",
      "(9, 'USC00519397', '2010-01-10', 0.0, 73.0)\n",
      "(10, 'USC00519397', '2010-01-11', 0.01, 64.0)\n"
     ]
    }
   ],
   "source": [
    "# Visualize some rows of Measurement\n",
    "sel=[Measurement.id, Measurement.station, Measurement.date, Measurement.prcp, Measurement.tobs]\n",
    "measurements = session.query(*sel).limit(10).all()\n",
    "for measurement in measurements:\n",
    "    print(measurement)"
   ]
  },
  {
   "cell_type": "markdown",
   "metadata": {},
   "source": [
    "# Exploratory Climate Analysis"
   ]
  },
  {
   "cell_type": "markdown",
   "metadata": {},
   "source": [
    "### Design a query to retrieve the last 12 months of precipitation data and plot the results"
   ]
  },
  {
   "cell_type": "code",
   "execution_count": 12,
   "metadata": {},
   "outputs": [],
   "source": [
    "# Calculate the date 1 year ago from the last data point in the database\n",
    "last_date = session.query(Measurement.date).order_by(Measurement.date.desc()).limit(1).all()\n",
    "last_date = last_date[0][0]\n",
    "last_date = dt.date( int(last_date.split(\"-\")[0]), \n",
    "                     int(last_date.split(\"-\")[1]),\n",
    "                     int(last_date.split(\"-\")[2]) \n",
    "                   )\n",
    "# Calculate the date to filter one year\n",
    "dt_filter = last_date - dt.timedelta(days=364)\n"
   ]
  },
  {
   "cell_type": "code",
   "execution_count": 13,
   "metadata": {},
   "outputs": [
    {
     "data": {
      "image/png": "[encoded data removed]",
      "text/plain": [
       "<Figure size 432x288 with 1 Axes>"
      ]
     },
     "metadata": {
      "needs_background": "light"
     },
     "output_type": "display_data"
    }
   ],
   "source": [
    "# Perform a query to retrieve the data and precipitation scores\n",
    "sel = [Measurement.date, Measurement.prcp]\n",
    "prcp_last_12_months = session.query(*sel).\\\n",
    "    filter(Measurement.date >= dt_filter.strftime(\"%Y-%m-%d\")).\\\n",
    "    order_by(Measurement.date).all()\n",
    "\n",
    "# Save the query results as a Pandas DataFrame and set the index to the date column\n",
    "df = pd.DataFrame(prcp_last_12_months, columns=['date','prcp'])\n",
    "df.rename(columns = {\"prcp\": \"Precipitation\"}, inplace = True)\n",
    "\n",
    "# Sort the dataframe by date\n",
    "df.sort_values('date', inplace=True)\n",
    "\n",
    "#Set the index to the date column\n",
    "df.set_index('date', inplace=True)\n",
    "\n",
    "# Use Pandas Plotting with Matplotlib to plot the data\n",
    "df.plot()\n",
    "plt.ylabel(\"Precipitation Volume\")\n",
    "plt.xlabel(\"Period from \" + str(dt_filter) + \" to \" + str(last_date))\n",
    "plt.legend(loc='upper center')\n",
    "plt.tight_layout()\n",
    "plt.show()\n"
   ]
  },
  {
   "cell_type": "code",
   "execution_count": 14,
   "metadata": {},
   "outputs": [
    {
     "data": {
      "text/html": [
       "<div>\n",
       "<style scoped>\n",
       "    .dataframe tbody tr th:only-of-type {\n",
       "        vertical-align: middle;\n",
       "    }\n",
       "\n",
       "    .dataframe tbody tr th {\n",
       "        vertical-align: top;\n",
       "    }\n",
       "\n",
       "    .dataframe thead th {\n",
       "        text-align: right;\n",
       "    }\n",
       "</style>\n",
       "<table border=\"1\" class=\"dataframe\">\n",
       "  <thead>\n",
       "    <tr style=\"text-align: right;\">\n",
       "      <th></th>\n",
       "      <th>Precipitation</th>\n",
       "    </tr>\n",
       "  </thead>\n",
       "  <tbody>\n",
       "    <tr>\n",
       "      <th>count</th>\n",
       "      <td>2015.000000</td>\n",
       "    </tr>\n",
       "    <tr>\n",
       "      <th>mean</th>\n",
       "      <td>0.176462</td>\n",
       "    </tr>\n",
       "    <tr>\n",
       "      <th>std</th>\n",
       "      <td>0.460288</td>\n",
       "    </tr>\n",
       "    <tr>\n",
       "      <th>min</th>\n",
       "      <td>0.000000</td>\n",
       "    </tr>\n",
       "    <tr>\n",
       "      <th>25%</th>\n",
       "      <td>0.000000</td>\n",
       "    </tr>\n",
       "    <tr>\n",
       "      <th>50%</th>\n",
       "      <td>0.020000</td>\n",
       "    </tr>\n",
       "    <tr>\n",
       "      <th>75%</th>\n",
       "      <td>0.130000</td>\n",
       "    </tr>\n",
       "    <tr>\n",
       "      <th>max</th>\n",
       "      <td>6.700000</td>\n",
       "    </tr>\n",
       "  </tbody>\n",
       "</table>\n",
       "</div>"
      ],
      "text/plain": [
       "       Precipitation\n",
       "count    2015.000000\n",
       "mean        0.176462\n",
       "std         0.460288\n",
       "min         0.000000\n",
       "25%         0.000000\n",
       "50%         0.020000\n",
       "75%         0.130000\n",
       "max         6.700000"
      ]
     },
     "execution_count": 14,
     "metadata": {},
     "output_type": "execute_result"
    }
   ],
   "source": [
    "# Print the summary statistics for the precipitation data.\n",
    "df.describe()"
   ]
  },
  {
   "cell_type": "markdown",
   "metadata": {},
   "source": [
    "### Station Analysis "
   ]
  },
  {
   "cell_type": "code",
   "execution_count": 15,
   "metadata": {},
   "outputs": [
    {
     "name": "stdout",
     "output_type": "stream",
     "text": [
      "9\n"
     ]
    }
   ],
   "source": [
    "# Query to show how many stations are available in this dataset?\n",
    "sel = [func.count(func.distinct(Station.station)).label(\"number_of_stations\")]\n",
    "total_stations = session.query(*sel).all()\n",
    "print(total_stations[0].number_of_stations)"
   ]
  },
  {
   "cell_type": "code",
   "execution_count": 16,
   "metadata": {},
   "outputs": [
    {
     "name": "stdout",
     "output_type": "stream",
     "text": [
      "('USC00519281', 2772)\n",
      "('USC00519397', 2724)\n",
      "('USC00513117', 2709)\n",
      "('USC00519523', 2669)\n",
      "('USC00516128', 2612)\n",
      "('USC00514830', 2202)\n",
      "('USC00511918', 1979)\n",
      "('USC00517948', 1372)\n",
      "('USC00518838', 511)\n"
     ]
    }
   ],
   "source": [
    "# What are the most active stations? (i.e. what stations have the most rows)?\n",
    "# List the stations and the counts in descending order.\n",
    "sel = [Measurement.station,  \n",
    "      func.count(Measurement.station)]\n",
    "count_station = session.query(*sel).\\\n",
    "    group_by(Measurement.station).\\\n",
    "    order_by(func.count(Measurement.station).desc()).all()\n",
    "\n",
    "for station in count_station:\n",
    "    print(station)\n"
   ]
  },
  {
   "cell_type": "code",
   "execution_count": 17,
   "metadata": {},
   "outputs": [
    {
     "name": "stdout",
     "output_type": "stream",
     "text": [
      "[('USC00519281', 54.0, 85.0, 71.66378066378067)]\n"
     ]
    }
   ],
   "source": [
    "# Using the station id from the previous query, calculate the lowest temperature recorded, \n",
    "# highest temperature recorded, and average temperature most active station?\n",
    "most_active_station_id = count_station[0].station\n",
    "\n",
    "sel = [Measurement.station,\n",
    "      func.min(Measurement.tobs),\n",
    "      func.max(Measurement.tobs),\n",
    "      func.avg(Measurement.tobs)\n",
    "      ]\n",
    "stats_most_active_station = session.query(*sel).\\\n",
    "    filter(Measurement.station == most_active_station_id).\\\n",
    "    group_by(Measurement.station).all()\n",
    "    \n",
    "print(stats_most_active_station)\n"
   ]
  },
  {
   "cell_type": "code",
   "execution_count": 18,
   "metadata": {},
   "outputs": [
    {
     "name": "stdout",
     "output_type": "stream",
     "text": [
      "('USC00511918', 34)\n",
      "('USC00519281', 31)\n",
      "('USC00519397', 30)\n",
      "('USC00519523', 30)\n",
      "('USC00517948', 28)\n",
      "('USC00513117', 27)\n",
      "('USC00516128', 27)\n",
      "('USC00514830', 26)\n",
      "('USC00518838', 25)\n",
      "USC00511918\n"
     ]
    }
   ],
   "source": [
    "# Choose the station with the highest number of temperature observations.\n",
    "sel = [Measurement.station, func.count(func.distinct(Measurement.tobs))]\n",
    "highest_temperat_station = session.query(*sel).\\\n",
    "    group_by(Measurement.station).\\\n",
    "    order_by(func.count(func.distinct(Measurement.tobs)).desc()).all()\n",
    "\n",
    "for row in highest_temperat_station: \n",
    "    print (row)\n",
    "\n",
    "# Get the id of the station with the highest number of temperature observations     \n",
    "highest_num_temp_station = highest_temperat_station[0][0]\n",
    "\n",
    "# highest_num_temp_station = most_active_station_id\n",
    "print(highest_num_temp_station)\n",
    "    "
   ]
  },
  {
   "cell_type": "code",
   "execution_count": 19,
   "metadata": {},
   "outputs": [
    {
     "name": "stdout",
     "output_type": "stream",
     "text": [
      "(76.0,)\n",
      "(78.0,)\n",
      "(73.0,)\n",
      "(70.0,)\n",
      "(72.0,)\n",
      "(66.0,)\n",
      "(75.0,)\n",
      "(75.0,)\n",
      "(76.0,)\n",
      "(71.0,)\n",
      "(78.0,)\n",
      "(68.0,)\n",
      "(67.0,)\n",
      "(69.0,)\n",
      "(75.0,)\n",
      "(76.0,)\n",
      "(64.0,)\n",
      "(74.0,)\n",
      "(78.0,)\n",
      "(74.0,)\n",
      "(75.0,)\n",
      "(70.0,)\n",
      "(72.0,)\n",
      "(69.0,)\n",
      "(68.0,)\n",
      "(73.0,)\n",
      "(77.0,)\n",
      "(75.0,)\n",
      "(77.0,)\n",
      "(70.0,)\n",
      "(62.0,)\n",
      "(68.0,)\n",
      "(67.0,)\n",
      "(70.0,)\n",
      "(66.0,)\n",
      "(64.0,)\n",
      "(62.0,)\n",
      "(64.0,)\n",
      "(63.0,)\n",
      "(69.0,)\n",
      "(64.0,)\n",
      "(70.0,)\n",
      "(72.0,)\n",
      "(72.0,)\n",
      "(64.0,)\n",
      "(71.0,)\n",
      "(68.0,)\n",
      "(81.0,)\n",
      "(78.0,)\n",
      "(69.0,)\n",
      "(72.0,)\n",
      "(70.0,)\n",
      "(62.0,)\n",
      "(76.0,)\n",
      "(72.0,)\n",
      "(76.0,)\n",
      "(57.0,)\n",
      "(64.0,)\n",
      "(57.0,)\n",
      "(66.0,)\n",
      "(65.0,)\n",
      "(69.0,)\n",
      "(62.0,)\n",
      "(56.0,)\n",
      "(63.0,)\n",
      "(57.0,)\n",
      "(57.0,)\n",
      "(62.0,)\n",
      "(77.0,)\n",
      "(66.0,)\n",
      "(63.0,)\n",
      "(60.0,)\n",
      "(72.0,)\n",
      "(74.0,)\n",
      "(69.0,)\n",
      "(70.0,)\n",
      "(74.0,)\n",
      "(63.0,)\n",
      "(67.0,)\n",
      "(61.0,)\n",
      "(66.0,)\n",
      "(67.0,)\n",
      "(72.0,)\n",
      "(68.0,)\n",
      "(66.0,)\n",
      "(59.0,)\n",
      "(68.0,)\n",
      "(74.0,)\n",
      "(60.0,)\n",
      "(65.0,)\n",
      "(72.0,)\n",
      "(76.0,)\n",
      "(74.0,)\n",
      "(75.0,)\n",
      "(73.0,)\n",
      "(64.0,)\n",
      "(75.0,)\n",
      "(71.0,)\n",
      "(71.0,)\n",
      "(62.0,)\n",
      "(63.0,)\n",
      "(68.0,)\n",
      "(62.0,)\n",
      "(63.0,)\n",
      "(65.0,)\n",
      "(69.0,)\n",
      "(63.0,)\n",
      "(73.0,)\n",
      "(66.0,)\n",
      "(63.0,)\n",
      "(69.0,)\n",
      "(65.0,)\n",
      "(71.0,)\n",
      "(78.0,)\n",
      "(75.0,)\n",
      "(71.0,)\n",
      "(73.0,)\n",
      "(67.0,)\n",
      "(71.0,)\n",
      "(68.0,)\n",
      "(69.0,)\n",
      "(72.0,)\n",
      "(73.0,)\n",
      "(69.0,)\n",
      "(71.0,)\n",
      "(66.0,)\n",
      "(74.0,)\n",
      "(76.0,)\n",
      "(80.0,)\n",
      "(79.0,)\n",
      "(77.0,)\n",
      "(70.0,)\n",
      "(63.0,)\n",
      "(70.0,)\n",
      "(64.0,)\n",
      "(64.0,)\n",
      "(67.0,)\n",
      "(71.0,)\n",
      "(70.0,)\n",
      "(70.0,)\n",
      "(71.0,)\n",
      "(80.0,)\n",
      "(73.0,)\n",
      "(66.0,)\n",
      "(69.0,)\n",
      "(69.0,)\n",
      "(72.0,)\n",
      "(72.0,)\n",
      "(73.0,)\n",
      "(72.0,)\n",
      "(73.0,)\n",
      "(72.0,)\n",
      "(74.0,)\n",
      "(69.0,)\n",
      "(75.0,)\n",
      "(74.0,)\n",
      "(72.0,)\n",
      "(72.0,)\n",
      "(79.0,)\n",
      "(78.0,)\n",
      "(82.0,)\n",
      "(70.0,)\n",
      "(77.0,)\n",
      "(67.0,)\n",
      "(74.0,)\n",
      "(68.0,)\n",
      "(67.0,)\n",
      "(70.0,)\n",
      "(66.0,)\n",
      "(70.0,)\n",
      "(67.0,)\n",
      "(68.0,)\n",
      "(68.0,)\n",
      "(71.0,)\n",
      "(74.0,)\n",
      "(69.0,)\n",
      "(69.0,)\n",
      "(66.0,)\n",
      "(67.0,)\n",
      "(69.0,)\n",
      "(72.0,)\n",
      "(72.0,)\n",
      "(72.0,)\n",
      "(70.0,)\n",
      "(75.0,)\n",
      "(73.0,)\n",
      "(70.0,)\n",
      "(71.0,)\n",
      "(67.0,)\n",
      "(71.0,)\n",
      "(77.0,)\n",
      "(76.0,)\n",
      "(73.0,)\n",
      "(77.0,)\n",
      "(75.0,)\n",
      "(71.0,)\n",
      "(75.0,)\n",
      "(75.0,)\n",
      "(72.0,)\n",
      "(77.0,)\n",
      "(71.0,)\n",
      "(77.0,)\n",
      "(72.0,)\n",
      "(74.0,)\n",
      "(78.0,)\n",
      "(82.0,)\n",
      "(85.0,)\n",
      "(84.0,)\n",
      "(76.0,)\n",
      "(76.0,)\n",
      "(76.0,)\n",
      "(78.0,)\n",
      "(73.0,)\n",
      "(73.0,)\n",
      "(75.0,)\n",
      "(82.0,)\n",
      "(79.0,)\n",
      "(76.0,)\n",
      "(84.0,)\n",
      "(86.0,)\n",
      "(82.0,)\n",
      "(78.0,)\n",
      "(76.0,)\n",
      "(76.0,)\n",
      "(73.0,)\n",
      "(74.0,)\n",
      "(71.0,)\n",
      "(74.0,)\n",
      "(81.0,)\n",
      "(76.0,)\n",
      "(77.0,)\n",
      "(76.0,)\n",
      "(77.0,)\n",
      "(83.0,)\n",
      "(84.0,)\n",
      "(73.0,)\n",
      "(72.0,)\n",
      "(72.0,)\n",
      "(72.0,)\n",
      "(72.0,)\n",
      "(71.0,)\n",
      "(75.0,)\n",
      "(71.0,)\n",
      "(71.0,)\n",
      "(74.0,)\n",
      "(72.0,)\n",
      "(82.0,)\n",
      "(68.0,)\n",
      "(64.0,)\n"
     ]
    }
   ],
   "source": [
    "# Query the last 12 months of temperature observation data for this station and plot the results as a histogram\n",
    "\n",
    "# Get the last date for the station\n",
    "result = session.query(func.max(Measurement.date).label(\"max_date\")).\\\n",
    "    filter(Measurement.station == highest_num_temp_station).all()\n",
    "\n",
    "# Calculate the date to filter the last year\n",
    "last_date = result[0].max_date\n",
    "last_date = dt.date( int(last_date.split(\"-\")[0]), \n",
    "                     int(last_date.split(\"-\")[1]),\n",
    "                     int(last_date.split(\"-\")[2]) \n",
    "                   )\n",
    "dt_filter = last_date - dt.timedelta(days=364)\n",
    "\n",
    "# Get the temperatures \n",
    "temperatures = session.query(Measurement.tobs).\\\n",
    "    filter(Measurement.station == highest_num_temp_station,\n",
    "    Measurement.date >= dt_filter.strftime(\"%Y-%m-%d\")).all() \n",
    "\n",
    "for row in temperatures: \n",
    "    print (row)"
   ]
  },
  {
   "cell_type": "code",
   "execution_count": 20,
   "metadata": {},
   "outputs": [
    {
     "data": {
      "image/png": "[encoded data removed]",
      "text/plain": [
       "<Figure size 432x288 with 1 Axes>"
      ]
     },
     "metadata": {
      "needs_background": "light"
     },
     "output_type": "display_data"
    }
   ],
   "source": [
    "# Plot the histogram\n",
    "df_temp = pd.DataFrame(temperatures)\n",
    "df_temp.plot.hist()\n",
    "plt.xlabel('Recorded temperatures from ' + str(dt_filter) + \" to \" + str(last_date))\n",
    "plt.ylabel('Frequency')\n",
    "plt.title('Station ' + highest_num_temp_station)\n",
    "plt.grid(True)\n",
    "plt.show()"
   ]
  },
  {
   "cell_type": "code",
   "execution_count": 38,
   "metadata": {},
   "outputs": [
    {
     "name": "stdout",
     "output_type": "stream",
     "text": [
      "[(62.0, 69.57142857142857, 74.0)]\n"
     ]
    }
   ],
   "source": [
    "\n",
    "# This function called `calc_temps` will accept start date and end date in the format '%Y-%m-%d' \n",
    "# and return the minimum, average, and maximum temperatures for that range of dates\n",
    "def calc_temps(start_date, end_date):\n",
    "    \"\"\"TMIN, TAVG, and TMAX for a list of dates.\n",
    "    \n",
    "    Args:\n",
    "        start_date (string): A date string in the format %Y-%m-%d\n",
    "        end_date (string): A date string in the format %Y-%m-%d\n",
    "        \n",
    "    Returns:\n",
    "        TMIN, TAVE, and TMAX\n",
    "    \"\"\"\n",
    "    \n",
    "    return session.query(func.min(Measurement.tobs).label(\"minimum\"),  \n",
    "                         func.avg(Measurement.tobs).label(\"average\"),  \n",
    "                         func.max(Measurement.tobs).label(\"maximum\")) .\\\n",
    "        filter(Measurement.date >= start_date).filter(Measurement.date <= end_date).all()\n",
    "\n",
    "# function usage example\n",
    "print(calc_temps('2012-02-28', '2012-03-05'))"
   ]
  },
  {
   "cell_type": "code",
   "execution_count": 39,
   "metadata": {},
   "outputs": [
    {
     "name": "stdout",
     "output_type": "stream",
     "text": [
      "[(71.0, 78.21111111111111, 83.0)]\n"
     ]
    }
   ],
   "source": [
    "# Use your previous function `calc_temps` to calculate the tmin, tavg, and tmax \n",
    "# for your trip using the previous year's data for those same dates.\n",
    "\n",
    "# Define my period to trip\n",
    "trip_start = dt.date(2017, 8, 1)  \n",
    "trip_end = dt.date(2017, 8, 14) \n",
    "\n",
    "# Back one year\n",
    "prev_start = trip_start - dt.timedelta(days=365)\n",
    "prev_end = trip_end - dt.timedelta(days=365)\n",
    "\n",
    "stats_temp_trip = calc_temps(prev_start, prev_end) \n",
    "print (stats_temp_trip)\n",
    "\n"
   ]
  },
  {
   "cell_type": "code",
   "execution_count": 135,
   "metadata": {},
   "outputs": [
    {
     "data": {
      "image/png": "[encoded data removed]",
      "text/plain": [
       "<Figure size 288x432 with 1 Axes>"
      ]
     },
     "metadata": {
      "needs_background": "light"
     },
     "output_type": "display_data"
    }
   ],
   "source": [
    "# Plot the results from your previous query as a bar chart.\n",
    "fig, ax = plt.subplots(figsize=(4,6))\n",
    "\n",
    "# Use \"Trip Avg Temp\" as your Title\n",
    "fig.suptitle(\"Trip Avg Temp\", fontsize=14, fontweight=\"light\", x=0.6, y=0.95)\n",
    "\n",
    "# Use the average temperature for the y value\n",
    "y = stats_temp_trip[0].average\n",
    "x = 0\n",
    "\n",
    "# Use the peak-to-peak (tmax-tmin) value as the y error bar (yerr)\n",
    "y_err = stats_temp_trip[0].maximum - stats_temp_trip[0].minimum\n",
    "\n",
    "ax.set_ylabel(\"Temp (F)\")\n",
    "\n",
    "ax.bar(x, y, width=1.3, color=\"salmon\", yerr=y_err)\n",
    "ax.set_ylim(0, 100)\n",
    "ax.set_xticks([])\n",
    "ax.set_xbound(lower=-1, upper=1)\n",
    "plt.grid(True)\n",
    "fig.tight_layout()\n",
    "plt.show()\n"
   ]
  },
  {
   "cell_type": "code",
   "execution_count": 24,
   "metadata": {},
   "outputs": [],
   "source": [
    "# Calculate the total amount of rainfall per weather station for your trip dates using the previous year's matching dates.\n",
    "# Sort this in descending order by precipitation amount and list the station, name, latitude, longitude, and elevation\n",
    "\n"
   ]
  },
  {
   "cell_type": "markdown",
   "metadata": {},
   "source": [
    "## Optional Challenge Assignment"
   ]
  },
  {
   "cell_type": "code",
   "execution_count": 25,
   "metadata": {},
   "outputs": [
    {
     "data": {
      "text/plain": [
       "[(62.0, 69.15384615384616, 77.0)]"
      ]
     },
     "execution_count": 25,
     "metadata": {},
     "output_type": "execute_result"
    }
   ],
   "source": [
    "# Create a query that will calculate the daily normals \n",
    "# (i.e. the averages for tmin, tmax, and tavg for all historic data matching a specific month and day)\n",
    "\n",
    "def daily_normals(date):\n",
    "    \"\"\"Daily Normals.\n",
    "    \n",
    "    Args:\n",
    "        date (str): A date string in the format '%m-%d'\n",
    "        \n",
    "    Returns:\n",
    "        A list of tuples containing the daily normals, tmin, tavg, and tmax\n",
    "    \n",
    "    \"\"\"\n",
    "    \n",
    "    sel = [func.min(Measurement.tobs), func.avg(Measurement.tobs), func.max(Measurement.tobs)]\n",
    "    return session.query(*sel).filter(func.strftime(\"%m-%d\", Measurement.date) == date).all()\n",
    "    \n",
    "daily_normals(\"01-01\")"
   ]
  },
  {
   "cell_type": "code",
   "execution_count": 26,
   "metadata": {},
   "outputs": [],
   "source": [
    "# calculate the daily normals for your trip\n",
    "# push each tuple of calculations into a list called `normals`\n",
    "\n",
    "# Set the start and end date of the trip\n",
    "\n",
    "# Use the start and end date to create a range of dates\n",
    "\n",
    "# Stip off the year and save a list of %m-%d strings\n",
    "\n",
    "# Loop through the list of %m-%d strings and calculate the normals for each date\n"
   ]
  },
  {
   "cell_type": "code",
   "execution_count": 27,
   "metadata": {},
   "outputs": [],
   "source": [
    "# Load the previous query results into a Pandas DataFrame and add the `trip_dates` range as the `date` index\n"
   ]
  },
  {
   "cell_type": "code",
   "execution_count": 28,
   "metadata": {},
   "outputs": [],
   "source": [
    "# Plot the daily normals as an area plot with `stacked=False`\n"
   ]
  }
 ],
 "metadata": {
  "kernel_info": {
   "name": "python3"
  },
  "kernelspec": {
   "display_name": "Python 3",
   "language": "python",
   "name": "python3"
  },
  "language_info": {
   "codemirror_mode": {
    "name": "ipython",
    "version": 3
   },
   "file_extension": ".py",
   "mimetype": "text/x-python",
   "name": "python",
   "nbconvert_exporter": "python",
   "pygments_lexer": "ipython3",
   "version": "3.6.8"
  },
  "nteract": {
   "version": "0.12.3"
  },
  "varInspector": {
   "cols": {
    "lenName": 16,
    "lenType": 16,
    "lenVar": 40
   },
   "kernels_config": {
    "python": {
     "delete_cmd_postfix": "",
     "delete_cmd_prefix": "del ",
     "library": "var_list.py",
     "varRefreshCmd": "print(var_dic_list())"
    },
    "r": {
     "delete_cmd_postfix": ") ",
     "delete_cmd_prefix": "rm(",
     "library": "var_list.r",
     "varRefreshCmd": "cat(var_dic_list()) "
    }
   },
   "types_to_exclude": [
    "module",
    "function",
    "builtin_function_or_method",
    "instance",
    "_Feature"
   ],
   "window_display": false
  }
 },
 "nbformat": 4,
 "nbformat_minor": 2
}
